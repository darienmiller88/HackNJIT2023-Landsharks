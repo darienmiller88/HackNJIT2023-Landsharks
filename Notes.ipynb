{
 "cells": [
  {
   "cell_type": "markdown",
   "metadata": {},
   "source": [
    "Group Notes\n",
    "    Google Cloud APIS\n",
    "        maps Elevation API\n",
    "        Cloud Composer \n",
    "        Cloud Storage----> BigQuery\n",
    "\n",
    "    APIS\n",
    "        Cloud ML Application . Take Cloud Pic know if there is a storm\n",
    "        Cloud translation API\n",
    "        Translation& Prediction\n",
    "        Google Keeps/Tasks\n",
    "\n",
    "Projection description\n",
    "    Sailor themed weather app - allow sailors to access real time data regarding wind speed, wind direction, average wave height, forecasts at their current location (latitude, longitude). Can include the status of buoys and lighthouses. record frequencies from nearby ships*\n",
    "\n",
    "    - update automatically every 15 minutes\n",
    "    - toggle between C/F\n",
    "    \n",
    "    "
   ]
  },
  {
   "cell_type": "markdown",
   "metadata": {},
   "source": [
    "Darien"
   ]
  },
  {
   "cell_type": "markdown",
   "metadata": {},
   "source": []
  },
  {
   "cell_type": "code",
   "execution_count": null,
   "metadata": {},
   "outputs": [],
   "source": []
  },
  {
   "cell_type": "markdown",
   "metadata": {},
   "source": [
    "Mohammad"
   ]
  },
  {
   "cell_type": "code",
   "execution_count": null,
   "metadata": {},
   "outputs": [],
   "source": []
  },
  {
   "cell_type": "markdown",
   "metadata": {},
   "source": [
    "Shreyas"
   ]
  },
  {
   "cell_type": "code",
   "execution_count": null,
   "metadata": {},
   "outputs": [],
   "source": []
  },
  {
   "cell_type": "markdown",
   "metadata": {},
   "source": [
    "Habeeba"
   ]
  },
  {
   "cell_type": "code",
   "execution_count": null,
   "metadata": {},
   "outputs": [],
   "source": []
  },
  {
   "cell_type": "markdown",
   "metadata": {},
   "source": []
  }
 ],
 "metadata": {
  "language_info": {
   "name": "python"
  }
 },
 "nbformat": 4,
 "nbformat_minor": 2
}
